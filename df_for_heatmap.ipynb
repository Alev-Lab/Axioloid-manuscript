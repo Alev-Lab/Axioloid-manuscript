{
 "cells": [
  {
   "cell_type": "code",
   "execution_count": 10,
   "id": "1cf5bd3c-2bf7-4d6c-ab9a-99fa7b2b3458",
   "metadata": {},
   "outputs": [],
   "source": [
    "import numpy as np\n",
    "import matplotlib.pyplot as plt\n",
    "import pandas as pd\n",
    "import seaborn as sns\n",
    "import cv2\n",
    "from PIL import Image\n",
    "import math\n",
    "\n",
    "# Following code was used to create dataframe for heatmap"
   ]
  },
  {
   "cell_type": "code",
   "execution_count": 32,
   "id": "b1780436-fad1-42df-b95f-ea0d61e6e653",
   "metadata": {},
   "outputs": [
    {
     "data": {
      "text/plain": [
       "'\\nMinimum and maximum of x-axis is set to make graph.\\nFor each-tissue graph, max-x and min-x were set to cover the entire tissue.\\nFor average of three tissue graph, max-x and min-x were set to the shortest length\\n\\nfor all: 96h: x_length = range(-180, 430, ...)\\nfor all: 120h: x_length = range(-140, 980, ...)\\n\\nfor each: 120h_tissue1: x_length(-180, 980, 40)\\nfor each: 120h_tissue3: x_length(-140, 1000, 40)\\nfor each: 120h_tissue4: x_length(-140, 1720, 40)\\n\\nfor each: 96h_tissue1: x_length(-260, 430, 30)\\nfor each: 96h_tissue2: x_length(-180, 510, 30)\\nfor each: 96h_tissue3: x_length(-220, 470, 30)\\n'"
      ]
     },
     "execution_count": 32,
     "metadata": {},
     "output_type": "execute_result"
    }
   ],
   "source": [
    "inputdir=\"C:\\\\Users\\\\sunad\\\\Desktop\\\\exp210919_cantas\\\\tissue_segmentation_220305\\\\segmentation\\\\96h\\\\for_graph\"\n",
    "\n",
    "\n",
    "df_t1 = pd.read_csv(f\"{inputdir}\\\\output\\\\tissue1_amplicon_density_roi.csv\")\n",
    "df_t1 = df_t1.rename(columns={'Unnamed: 0': 'gene'})\n",
    "\n",
    "df_t2 = pd.read_csv(f\"{inputdir}\\\\output\\\\tissue2_amplicon_density_roi.csv\")\n",
    "df_t2 = df_t2.rename(columns={'Unnamed: 0': 'gene'})\n",
    "\n",
    "df_t3 = pd.read_csv(f\"{inputdir}\\\\output\\\\tissue3_amplicon_density_roi.csv\")\n",
    "df_t3 = df_t3.rename(columns={'Unnamed: 0': 'gene'})\n",
    "\n",
    "genelist = pd.read_csv(f\"{inputdir}\\\\genelist_all.csv\")\n",
    "x_length = range(-180, 430, 30)\n",
    "x_axis = list(x_length)\n",
    "\n",
    "\"\"\"\n",
    "Minimum and maximum of x-axis is set to make graph.\n",
    "For each-tissue graph, max-x and min-x were set to cover the entire tissue.\n",
    "For average of three tissue graph, max-x and min-x were set to the shortest length\n",
    "\n",
    "for all: 96h: x_length = range(-180, 430, ...)\n",
    "for all: 120h: x_length = range(-140, 980, ...)\n",
    "\n",
    "for each: 120h_tissue1: x_length(-180, 980, 40)\n",
    "for each: 120h_tissue3: x_length(-140, 1000, 40)\n",
    "for each: 120h_tissue4: x_length(-140, 1720, 40)\n",
    "\n",
    "for each: 96h_tissue1: x_length(-260, 430, 30)\n",
    "for each: 96h_tissue2: x_length(-180, 510, 30)\n",
    "for each: 96h_tissue3: x_length(-220, 470, 30)\n",
    "\"\"\"\n"
   ]
  },
  {
   "cell_type": "code",
   "execution_count": 12,
   "id": "a5acc43a-b5df-4320-8af8-95e2b587d4d0",
   "metadata": {},
   "outputs": [],
   "source": [
    "\"\"\"\n",
    "here, density of amplicon is calculated according to x_length = range(.., .., ..)\n",
    "# data of (center of mass of segment, gene spot density) was connected with line,\n",
    "and density of gene spot to list of x_length was calculated\n",
    "\n",
    "\"\"\"\n",
    "def density_plotter(df, genename):\n",
    "    \n",
    "    amp_density_list = []\n",
    "    a = df.loc[df.gene == \"distance_micro-m\", :].values[0].tolist()\n",
    "    del a[0]\n",
    "    g = df.loc[df.gene == genename, :].values[0].tolist()\n",
    "    del g[0]\n",
    "\n",
    "    for i in x_length:\n",
    "        b = [(x-i)**2 for x in a]\n",
    "        c = sorted(enumerate(b), key = lambda x: x[1])\n",
    "        idx1 = c[0][0]\n",
    "        idx2 = c[1][0]\n",
    "        \n",
    "        alpha = (g[idx1]-g[idx2])/(a[idx1]-a[idx2])\n",
    "            \n",
    "        m = g[idx1] - alpha*(a[idx1]-i)\n",
    "            \n",
    "        amp_density_list.append(m)\n",
    "\n",
    "        \n",
    "        \n",
    "    return amp_density_list\n",
    "    \n",
    "    "
   ]
  },
  {
   "cell_type": "code",
   "execution_count": 27,
   "id": "f0c544b7-d102-4d4e-bbf4-c32eb5ada023",
   "metadata": {},
   "outputs": [],
   "source": [
    "#making dataframe for heatmap_average\n",
    "outputdir = f\"{inputdir}\\\\output\"\n",
    "df_average = pd.DataFrame(columns = x_axis)\n",
    "\n",
    "for i in range(len(genelist)):\n",
    "    genename = genelist.loc[i, \"Gene\"]\n",
    "    \n",
    "    amp_list1 = density_plotter(df_t1, genename)\n",
    "    amp_list2 = density_plotter(df_t2, genename)\n",
    "    amp_list3 = density_plotter(df_t3, genename)\n",
    "    \n",
    "    amp_list_ave = []\n",
    "    \n",
    "    for k in range(len(amp_list1)):\n",
    "        s = (amp_list1[k] + amp_list2[k] + amp_list3[k])/3\n",
    "        amp_list_ave.append(s)\n",
    "    \n",
    "    df_average.loc[genename] = amp_list_ave\n",
    "        \n",
    "    \n",
    "df_average.to_csv(f\"{outputdir}\\\\average_heatmap_amplicon_density_roi.csv\")\n",
    "    \n",
    "\n"
   ]
  },
  {
   "cell_type": "code",
   "execution_count": 25,
   "id": "676f84f8-f303-4982-ab7c-93b0bb343279",
   "metadata": {},
   "outputs": [],
   "source": [
    "#making dataframe for heatmap_each_tissue\n",
    "\n",
    "outputdir = f\"{inputdir}\\\\output\"\n",
    "df = pd.DataFrame(columns = x_axis)\n",
    "\n",
    "for i in range(len(genelist)):\n",
    "    genename = genelist.loc[i, \"Gene\"]\n",
    "    \n",
    "    amp_list = density_plotter(df_t3, genename)\n",
    "        \n",
    "    df.loc[genename] = amp_list\n",
    "        \n",
    "    \n",
    "df.to_csv(f\"{outputdir}\\\\tissue3_heatmap_amplicon_density_roi.csv\")"
   ]
  }
 ],
 "metadata": {
  "kernelspec": {
   "display_name": "Python 3",
   "language": "python",
   "name": "python3"
  },
  "language_info": {
   "codemirror_mode": {
    "name": "ipython",
    "version": 3
   },
   "file_extension": ".py",
   "mimetype": "text/x-python",
   "name": "python",
   "nbconvert_exporter": "python",
   "pygments_lexer": "ipython3",
   "version": "3.8.8"
  }
 },
 "nbformat": 4,
 "nbformat_minor": 5
}
